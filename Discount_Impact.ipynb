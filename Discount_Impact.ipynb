{
 "cells": [
  {
   "cell_type": "markdown",
   "metadata": {},
   "source": [
    "# Business Impact of Discoount\n",
    "We conduct a brief analysis of the strategy that the SME division head proposed. This is not necessarily the optimal strategy.<br>\n",
    "The SME division head proposed that we give a 20% discount to high propensity-to-churn customers. We can assume to start that everyone who is offered a discount will accept it.\n"
   ]
  },
  {
   "cell_type": "markdown",
   "metadata": {},
   "source": [
    "## General Workflow\n",
    "Our task is to calculate the forecast revenue of the set of customers:\n",
    "1. When no discount is offered, and\n",
    "2. Whena discount is offered based on some probability cut-off to decide who should receive a discount 20%\n",
    "... and therefore decide where the cut-off should be set so as to maximise revenue.\n",
    "\n",
    "Do the following:\n"
   ]
  },
  {
   "cell_type": "markdown",
   "metadata": {},
   "source": [
    "### Load the data \n",
    "- Load the pickle file of out-of-sample predictions from the best model\n",
    "- Sort the predictions by predicted probability of churn in descending order (ie, highest predicted probability of churn customers first)"
   ]
  },
  {
   "cell_type": "code",
   "execution_count": 40,
   "metadata": {},
   "outputs": [],
   "source": [
    "# imports\n",
    "import pandas as pd\n",
    "import numpy as np\n",
    "import matplotlib.pyplot as plt\n"
   ]
  },
  {
   "cell_type": "code",
   "execution_count": 41,
   "metadata": {},
   "outputs": [],
   "source": [
    "# load data\n",
    "predictions = pd.read_pickle('processed_data/xgb_outOfSamplePredictions.pkl')\n"
   ]
  },
  {
   "cell_type": "code",
   "execution_count": 42,
   "metadata": {},
   "outputs": [
    {
     "data": {
      "text/html": [
       "<div>\n",
       "<style scoped>\n",
       "    .dataframe tbody tr th:only-of-type {\n",
       "        vertical-align: middle;\n",
       "    }\n",
       "\n",
       "    .dataframe tbody tr th {\n",
       "        vertical-align: top;\n",
       "    }\n",
       "\n",
       "    .dataframe thead th {\n",
       "        text-align: right;\n",
       "    }\n",
       "</style>\n",
       "<table border=\"1\" class=\"dataframe\">\n",
       "  <thead>\n",
       "    <tr style=\"text-align: right;\">\n",
       "      <th></th>\n",
       "      <th>cons_12m</th>\n",
       "      <th>cons_gas_12m</th>\n",
       "      <th>cons_last_month</th>\n",
       "      <th>forecast_cons_12m</th>\n",
       "      <th>forecast_discount_energy</th>\n",
       "      <th>forecast_meter_rent_12m</th>\n",
       "      <th>forecast_price_energy_p1</th>\n",
       "      <th>forecast_price_energy_p2</th>\n",
       "      <th>forecast_price_pow_p1</th>\n",
       "      <th>has_gas</th>\n",
       "      <th>...</th>\n",
       "      <th>mean_year_price_p2_var</th>\n",
       "      <th>mean_year_price_p3_var</th>\n",
       "      <th>mean_year_price_p1_fix</th>\n",
       "      <th>mean_year_price_p2_fix</th>\n",
       "      <th>mean_year_price_p3_fix</th>\n",
       "      <th>mean_year_price_p1</th>\n",
       "      <th>mean_year_price_p2</th>\n",
       "      <th>mean_year_price_p3</th>\n",
       "      <th>y_test_pred</th>\n",
       "      <th>y_test</th>\n",
       "    </tr>\n",
       "  </thead>\n",
       "  <tbody>\n",
       "    <tr>\n",
       "      <th>5871</th>\n",
       "      <td>5.472865</td>\n",
       "      <td>5.225325</td>\n",
       "      <td>4.229528</td>\n",
       "      <td>3.270241</td>\n",
       "      <td>0.0</td>\n",
       "      <td>1.811240</td>\n",
       "      <td>0.145711</td>\n",
       "      <td>0.000000</td>\n",
       "      <td>44.311378</td>\n",
       "      <td>1</td>\n",
       "      <td>...</td>\n",
       "      <td>0.000000</td>\n",
       "      <td>0.000000</td>\n",
       "      <td>44.400265</td>\n",
       "      <td>0.000000</td>\n",
       "      <td>0.000000</td>\n",
       "      <td>44.550736</td>\n",
       "      <td>0.000000</td>\n",
       "      <td>0.000000</td>\n",
       "      <td>0.027380</td>\n",
       "      <td>0</td>\n",
       "    </tr>\n",
       "    <tr>\n",
       "      <th>6997</th>\n",
       "      <td>5.268058</td>\n",
       "      <td>0.000000</td>\n",
       "      <td>4.067220</td>\n",
       "      <td>4.152069</td>\n",
       "      <td>0.0</td>\n",
       "      <td>2.115976</td>\n",
       "      <td>0.110955</td>\n",
       "      <td>0.095842</td>\n",
       "      <td>40.606701</td>\n",
       "      <td>0</td>\n",
       "      <td>...</td>\n",
       "      <td>0.100728</td>\n",
       "      <td>0.070521</td>\n",
       "      <td>40.579547</td>\n",
       "      <td>24.347725</td>\n",
       "      <td>16.231816</td>\n",
       "      <td>40.700608</td>\n",
       "      <td>24.448453</td>\n",
       "      <td>16.302337</td>\n",
       "      <td>0.072887</td>\n",
       "      <td>0</td>\n",
       "    </tr>\n",
       "    <tr>\n",
       "      <th>1516</th>\n",
       "      <td>4.218850</td>\n",
       "      <td>0.000000</td>\n",
       "      <td>3.333850</td>\n",
       "      <td>3.131567</td>\n",
       "      <td>0.0</td>\n",
       "      <td>2.120640</td>\n",
       "      <td>0.112860</td>\n",
       "      <td>0.096521</td>\n",
       "      <td>40.606701</td>\n",
       "      <td>0</td>\n",
       "      <td>...</td>\n",
       "      <td>0.099106</td>\n",
       "      <td>0.069847</td>\n",
       "      <td>40.647427</td>\n",
       "      <td>24.388455</td>\n",
       "      <td>16.258971</td>\n",
       "      <td>40.767000</td>\n",
       "      <td>24.487562</td>\n",
       "      <td>16.328818</td>\n",
       "      <td>0.114987</td>\n",
       "      <td>0</td>\n",
       "    </tr>\n",
       "    <tr>\n",
       "      <th>11616</th>\n",
       "      <td>4.302374</td>\n",
       "      <td>0.000000</td>\n",
       "      <td>0.000000</td>\n",
       "      <td>3.474324</td>\n",
       "      <td>0.0</td>\n",
       "      <td>1.287130</td>\n",
       "      <td>0.144149</td>\n",
       "      <td>0.000000</td>\n",
       "      <td>44.311378</td>\n",
       "      <td>0</td>\n",
       "      <td>...</td>\n",
       "      <td>0.007124</td>\n",
       "      <td>0.000000</td>\n",
       "      <td>44.385450</td>\n",
       "      <td>0.000000</td>\n",
       "      <td>0.000000</td>\n",
       "      <td>44.533449</td>\n",
       "      <td>0.007124</td>\n",
       "      <td>0.000000</td>\n",
       "      <td>0.140574</td>\n",
       "      <td>0</td>\n",
       "    </tr>\n",
       "    <tr>\n",
       "      <th>2532</th>\n",
       "      <td>5.511454</td>\n",
       "      <td>0.000000</td>\n",
       "      <td>4.743518</td>\n",
       "      <td>3.668502</td>\n",
       "      <td>0.0</td>\n",
       "      <td>1.985382</td>\n",
       "      <td>0.116509</td>\n",
       "      <td>0.101397</td>\n",
       "      <td>40.606701</td>\n",
       "      <td>0</td>\n",
       "      <td>...</td>\n",
       "      <td>0.105437</td>\n",
       "      <td>0.075251</td>\n",
       "      <td>40.593123</td>\n",
       "      <td>24.355871</td>\n",
       "      <td>16.237247</td>\n",
       "      <td>40.718752</td>\n",
       "      <td>24.461308</td>\n",
       "      <td>16.312498</td>\n",
       "      <td>0.088995</td>\n",
       "      <td>0</td>\n",
       "    </tr>\n",
       "  </tbody>\n",
       "</table>\n",
       "<p>5 rows × 53 columns</p>\n",
       "</div>"
      ],
      "text/plain": [
       "       cons_12m  cons_gas_12m  cons_last_month  forecast_cons_12m  \\\n",
       "5871   5.472865      5.225325         4.229528           3.270241   \n",
       "6997   5.268058      0.000000         4.067220           4.152069   \n",
       "1516   4.218850      0.000000         3.333850           3.131567   \n",
       "11616  4.302374      0.000000         0.000000           3.474324   \n",
       "2532   5.511454      0.000000         4.743518           3.668502   \n",
       "\n",
       "       forecast_discount_energy  forecast_meter_rent_12m  \\\n",
       "5871                        0.0                 1.811240   \n",
       "6997                        0.0                 2.115976   \n",
       "1516                        0.0                 2.120640   \n",
       "11616                       0.0                 1.287130   \n",
       "2532                        0.0                 1.985382   \n",
       "\n",
       "       forecast_price_energy_p1  forecast_price_energy_p2  \\\n",
       "5871                   0.145711                  0.000000   \n",
       "6997                   0.110955                  0.095842   \n",
       "1516                   0.112860                  0.096521   \n",
       "11616                  0.144149                  0.000000   \n",
       "2532                   0.116509                  0.101397   \n",
       "\n",
       "       forecast_price_pow_p1  has_gas  ...  mean_year_price_p2_var  \\\n",
       "5871               44.311378        1  ...                0.000000   \n",
       "6997               40.606701        0  ...                0.100728   \n",
       "1516               40.606701        0  ...                0.099106   \n",
       "11616              44.311378        0  ...                0.007124   \n",
       "2532               40.606701        0  ...                0.105437   \n",
       "\n",
       "       mean_year_price_p3_var  mean_year_price_p1_fix  mean_year_price_p2_fix  \\\n",
       "5871                 0.000000               44.400265                0.000000   \n",
       "6997                 0.070521               40.579547               24.347725   \n",
       "1516                 0.069847               40.647427               24.388455   \n",
       "11616                0.000000               44.385450                0.000000   \n",
       "2532                 0.075251               40.593123               24.355871   \n",
       "\n",
       "       mean_year_price_p3_fix  mean_year_price_p1  mean_year_price_p2  \\\n",
       "5871                 0.000000           44.550736            0.000000   \n",
       "6997                16.231816           40.700608           24.448453   \n",
       "1516                16.258971           40.767000           24.487562   \n",
       "11616                0.000000           44.533449            0.007124   \n",
       "2532                16.237247           40.718752           24.461308   \n",
       "\n",
       "       mean_year_price_p3  y_test_pred  y_test  \n",
       "5871             0.000000     0.027380       0  \n",
       "6997            16.302337     0.072887       0  \n",
       "1516            16.328818     0.114987       0  \n",
       "11616            0.000000     0.140574       0  \n",
       "2532            16.312498     0.088995       0  \n",
       "\n",
       "[5 rows x 53 columns]"
      ]
     },
     "execution_count": 42,
     "metadata": {},
     "output_type": "execute_result"
    }
   ],
   "source": [
    "predictions.head()"
   ]
  },
  {
   "cell_type": "markdown",
   "metadata": {},
   "source": [
    "### Calculate a baseline revenue estimate (no intervention)\n",
    "Calculate a baseline estimate of the electricity revenue for every customer for the next twelve months based on the forecast consumption and forecast price and actual churn ouotcomoe. Call this `basecase_revenue`\n",
    "\n",
    "\n",
    "- For customers who end up churning, we should reduce our forecast revenue calculation by 91.9% to account for the customers churn some time between January 2016 and the start of March 2016. (Not knowing when they churn, a reasonable assumption for the lost revenue is the average of 100%, corresponding to churn on 1 January 2016, and 83.9%, corresponding to churn at the end of February, or 59 days into a 365 day year).Call this new variable basecase_revenue_after_churn, ie basecase_revenue_after_churn = basecase_revenue * (1- 0.919 * churn)"
   ]
  },
  {
   "cell_type": "code",
   "execution_count": 43,
   "metadata": {},
   "outputs": [],
   "source": [
    "# Electricity revenue for each customer consists of energy consumption (amount * price) and the meter rent\n",
    "# The power price may also play a role, but we will ignore it for now \n",
    "# Note that we need to reverse the log10-trransformation from the data cleaning step\n",
    "predictions['basecase_revenue'] = \\\n",
    "(np.power(10, predictions['forecast_cons_12m'])+1) * predictions['forecast_price_energy_p1'] + \\\n",
    "np.power(10, predictions['forecast_meter_rent_12m']+1)"
   ]
  },
  {
   "cell_type": "code",
   "execution_count": 44,
   "metadata": {},
   "outputs": [],
   "source": [
    "# taking churn into account\n",
    "predictions['basecase_revenue_after_churn'] = predictions['basecase_revenue'] * (1 - 0.919 * predictions['y_test'])"
   ]
  },
  {
   "cell_type": "markdown",
   "metadata": {},
   "source": [
    "## Calculate the estimated benefits and costs of intervention\n",
    "Now, pick a cut-off probability (eg, 0.5) so that:\n",
    " - Customers with a higher churn probability than cut-off get a discount, and\n",
    " - Customers below the churn-probability get a discount.\n",
    "From this, calculate the revenue of the intervention scenario of this this scenario assuming:\n",
    " - All customers who are offered a discount accept it\n",
    " - Customers who do receive a discount are assumed not to churn in the next twelve months (ie churn probability = 0), and therefore the retained revenue is 0.8 * basecase_revenue, being (1 - discount_frraction) * basecase_revenue\n",
    " - Customers who do not receive a discount are assumed to churn based on the observed dependent variable (ie, a 1 or 0 for whether they actually churned or not)\n",
    " \n",
    "Now, map out the revenue delta as a function of the cut-off probability in a graph\n",
    "\n",
    "What cut-off probability approximately optimize the revenue outcome?\n",
    "\n",
    "Assume for these calculations that the customer does not cinsume more or less electricity because the price changes. (In practice, we would expect that if the customer's cost goes down then their consumption might increase.)\n",
    "\n",
    "We will see two counterbalancing effects at play:\n",
    "- For true positive we will see revenue retention vs the no-discount scenario\n",
    "- For false positive we will see reduce revenue from giving them a discount when they wouldn't in fact churn\n",
    "\n",
    "(False negative represent an opportunity cost but not an actual cost differrence between the two scenarios)\n",
    "\n",
    "The optimal cut-off point will balance the benefits from true positives against the costs of false positives.<br>\n",
    "Our task is to approximately fimd the optimal cut-off point. We many need to make additional assumptions. If we feel the assumptions above aren't justified and that others are better than we should modify our assumptions."
   ]
  },
  {
   "cell_type": "code",
   "execution_count": 45,
   "metadata": {},
   "outputs": [],
   "source": [
    "def get_rev_delta(pred: pd.DataFrame, cutoff: float = 0.5, discount: float = 0.2) -> float:\n",
    "    '''\n",
    "    Get the delta of revenue for offering discount for all customers with predicted churn risk >= cutoff\n",
    "    '''\n",
    "    pred['discount_revenue'] = pred['basecase_revenue_after_churn']\n",
    "    # Churn predicted => discount is given => customer stays for full year, independent of whether the prediction\n",
    "    # (false positive, 'free'/unnecessary discount given) or correct\n",
    "    pred.loc[pred['y_test_pred'] >= cutoff, 'discount_revenue'] = pred['basecase_revenue'] * (1 - discount)\n",
    "    # save tthe revenue delta for each custtomer in a separate column\n",
    "    pred['revenue_delta'] = pred['discount_revenue'] - pred['basecase_revenue_after_churn']\n",
    "    return pred['revenue_delta'].sum()"
   ]
  },
  {
   "cell_type": "code",
   "execution_count": 46,
   "metadata": {},
   "outputs": [],
   "source": [
    "# Generate a list of possible cutoffs and the corresponding overall revenue deltas\n",
    "rev_deltas = pd.Series({cutoff: get_rev_delta(predictions, cutoff = cutoff) for cutoff in np.arange(0, 1, 0.01)})"
   ]
  },
  {
   "cell_type": "code",
   "execution_count": 47,
   "metadata": {},
   "outputs": [
    {
     "data": {
      "image/png": "[encoded data removed]",
      "text/plain": [
       "<Figure size 432x288 with 1 Axes>"
      ]
     },
     "metadata": {
      "needs_background": "light"
     },
     "output_type": "display_data"
    },
    {
     "name": "stdout",
     "output_type": "stream",
     "text": [
      "Maximum benefit at cutoff 0.15 with revenue delta of $206,846.04\n"
     ]
    }
   ],
   "source": [
    "def plot_tradeoff(rev_deltas: pd.Series):\n",
    "    # Plot the revenue deltas\n",
    "    rev_deltas.plot()\n",
    "    # mark optimal point\n",
    "    max_pred = rev_deltas.idxmax()\n",
    "    plt.scatter(max_pred, rev_deltas.loc[max_pred], s = 100, c = 'red')\n",
    "    # Reference line for break-even\n",
    "    plt.hlines(0, 0, 1)\n",
    "    plt.show()\n",
    "    print(f'Maximum benefit at cutoff {max_pred} with revenue delta of ${rev_deltas.loc[max_pred]:,.2f}')\n",
    "\n",
    "plot_tradeoff(rev_deltas)"
   ]
  },
  {
   "cell_type": "markdown",
   "metadata": {},
   "source": [
    "## Optional Extra: How to select the cut-off?\n",
    "Above, we decide who to offer the discount to based on the probability cut-off.\n",
    "\n",
    "In this the optimal strategy?\n",
    "- For instance, we might be offering discounts to customers who are not very profitable, thus worsening our overall margins substantially. For example, if offering a discount makes the customer unprofitable on a net margin basis then we might want to let them churn rather than save them.\n",
    "- Even if we only consider revenue, this strategy might not be optimal from a revenue viewpoint. For instance, we can calculate the expected revenue impact of our strategy and priorities customers for discounts that have a high expected revenue impact. (This means that the probability of churn might be high but they also might be valuable customers).\n",
    "\n",
    "A general principle here is that we can afford to spend moe on retaining high-value customers because the costs of losing them are higher.\n",
    "\n",
    "A very common mistake in business applications of churn is to focus on the churn probability whilst forgetting the value impact (to greater or lesswe extents). We have seen many cases where our clients spend as much as effort on retainingupprofitable customers as they do on retaining highly profitable customers."
   ]
  },
  {
   "cell_type": "code",
   "execution_count": 48,
   "metadata": {},
   "outputs": [],
   "source": [
    "def get_rev_delta_high_value(pred: pd.DataFrame, cutoff: float = 0.5, discount: float = 0.2, min_rev: float = 500) -> float:\n",
    "    '''\n",
    "    Get the delta of revenues for ooffering discount for all customers with predicted churn risk >= cutoff and revenue\n",
    "    '''\n",
    "    pred['discount_revenue'] = pred['basecase_revenue_after_churn']\n",
    "    # churn predicted => discount is given for high-value customers => customer stays for full year, independent\n",
    "    pred.loc[(pred['y_test_pred'] >= cutoff)&(pred['basecase_revenue'] > min_rev), 'discount_revenue'] = pred['basecase_revenue'] * (1 - discount)\n",
    "    # save the revenue delta for each customer in a separate column\n",
    "    pred['revenue_delta'] = pred['discount_revenue'] - pred['basecase_revenue_after_churn']\n",
    "    return pred['revenue_delta'].sum()"
   ]
  },
  {
   "cell_type": "code",
   "execution_count": 49,
   "metadata": {},
   "outputs": [],
   "source": [
    "# generate a list of possible cutoffs and the corresponding overall revenue deltas\n",
    "rev_deltas_high_value = pd.Series({cutoff: get_rev_delta_high_value(predictions, cutoff = cutoff) for cutoff in np.arange(0, 1, 0.01)})\n"
   ]
  },
  {
   "cell_type": "code",
   "execution_count": 50,
   "metadata": {},
   "outputs": [
    {
     "data": {
      "image/png": "[encoded data removed]",
      "text/plain": [
       "<Figure size 432x288 with 1 Axes>"
      ]
     },
     "metadata": {
      "needs_background": "light"
     },
     "output_type": "display_data"
    },
    {
     "name": "stdout",
     "output_type": "stream",
     "text": [
      "Maximum benefit at cutoff 0.15 with revenue delta of $186,551.34\n"
     ]
    }
   ],
   "source": [
    "# generate a list of possible cutoffs and the corresponding overall revenue deltas\n",
    "plot_tradeoff(rev_deltas_high_value)"
   ]
  },
  {
   "cell_type": "markdown",
   "metadata": {},
   "source": [
    "> Note: In this case, it doesn't make sense to prioritize large-revenue customers, since the overall revenue delta is much lower than when targeting everyone. However, this is only the case here since the intervention doesn't depend on the number of customers (simply adjusting prices). The interventions usually go beyond simply adjusting prices to prevent churn. There may be the option of intensifying the customer relation, adding key account managers, or other interventions that do incur costs depending on how many customers are targeted. In that case, it may be benefitial to target only a subset of customers to save on these costs, even if the delta in the figure above is reduced."
   ]
  },
  {
   "cell_type": "markdown",
   "metadata": {},
   "source": [
    "## Optional Extra: Using forecast rather than actual churn\n",
    "We may have noticed above that we used actual churn outcomes in calculating the financial impact. Actual churn outcomes are fine if we know them and are conducting a retrospective analysis of the effectiveness of a strategy. This example of analysis is commonly known as 'backtesting', is seeing how well a strategy would have performed historically.\n",
    "\n",
    "(Of couorse, one must be careful that any analysis is done using out-of-sample data. Conducting the analysis on the training data will lead to predictions that are too optimistic.)\n",
    "\n",
    "In practive, actual outcomes may not be available because they are in the future. \n",
    "\n",
    "An alternative is to optimize predicted/forecast revenue based on the probabilities which are on output from our churn model. In this case, we would replace the actual churn outcomes (churn) with the predicted probabiliyt of churn from our model. The results here are obviously model-dependent.\n",
    "\n",
    "If our model probabilities are poorly calibrated then we can end up with quite poor results from this. Going down thiis path therefore usually requires the extra step of checking how well calibrated the moodel probabilities are, and potentially correcting for any miscalibrating using Platt scaling or isotonic regression.\n",
    "\n"
   ]
  },
  {
   "cell_type": "code",
   "execution_count": 51,
   "metadata": {},
   "outputs": [
    {
     "data": {
      "image/png": "[encoded data removed]",
      "text/plain": [
       "<Figure size 720x720 with 2 Axes>"
      ]
     },
     "metadata": {
      "needs_background": "light"
     },
     "output_type": "display_data"
    }
   ],
   "source": [
    "# check our calibrating\n",
    "from sklearn.calibration import calibration_curve\n",
    "\n",
    "fig = plt.figure(figsize = (10, 10))\n",
    "ax1 = plt.subplot2grid((3, 1), (0, 0), rowspan = 2)\n",
    "ax2 = plt.subplot2grid((3, 1), (2, 0))\n",
    "\n",
    "ax1.plot([0, 1], [0, 1], 'k:', label = 'Perfectly Calibrated')\n",
    "\n",
    "fraction_of_positives, mean_predicted_value = calibration_curve(y_true = predictions['y_test'],\n",
    "                                                               y_prob = predictions['y_test_pred'],\n",
    "                                                               n_bins = 10)\n",
    "\n",
    "ax1.plot(mean_predicted_value, fraction_of_positives, 's-', label = 'Our RF classifer')\n",
    "ax2.hist(predictions['y_test_pred'], range = (0, 1), bins = 10, histtype = 'step', lw = 2)\n",
    "\n",
    "ax1.set_ylabel('Fraction of positives')\n",
    "ax1.set_ylim([-0.05, 1.05])\n",
    "ax1.legend(loc='lower right')\n",
    "ax1.set_title('Calibration plots (reliability curve)')\n",
    "\n",
    "ax2.set_xlabel('Mean predicted value')\n",
    "ax2.set_ylabel('Count')\n",
    "\n",
    "plt.tight_layout()"
   ]
  },
  {
   "cell_type": "markdown",
   "metadata": {},
   "source": [
    "Calibration is OK, but not perfect - let's skip the calibration step here.<br>\n",
    "To use the predicted churn probability, we simply need to replace all 1/0 churn values with it in all calculations."
   ]
  },
  {
   "cell_type": "code",
   "execution_count": 52,
   "metadata": {},
   "outputs": [],
   "source": [
    "# taking churn into account\n",
    "predictions['basecase_revenue_after_churn'] = predictions['basecase_revenue'] * (1 - 0.919 * predictions['y_test_pred'])"
   ]
  },
  {
   "cell_type": "code",
   "execution_count": 53,
   "metadata": {},
   "outputs": [],
   "source": [
    "def get_rev_delta(pred: pd.DataFrame, cutoff: float = 0.5, discount: float = 0.2) -> float:\n",
    "    '''\n",
    "    Get the delta of revenue for offering discount for all customers with predicted churn risk >= cutoff\n",
    "    '''\n",
    "    pred['discount_revenue'] = pred['basecase_revenue_after_churn']\n",
    "    # Churn predicted => discount is given => customer stays for full year, independent of whether the prediction\n",
    "    # (false positive, 'free'/unnecessary discount given) or correct\n",
    "    pred.loc[pred['y_test_pred'] >= cutoff, 'discount_revenue'] = pred['basecase_revenue'] * (1 - discount)\n",
    "    # save tthe revenue delta for each custtomer in a separate column\n",
    "    pred['revenue_delta'] = pred['discount_revenue'] - pred['basecase_revenue_after_churn']\n",
    "    return pred['revenue_delta'].sum()"
   ]
  },
  {
   "cell_type": "code",
   "execution_count": 54,
   "metadata": {},
   "outputs": [],
   "source": [
    "rev_deltas = pd.Series({cutoff: get_rev_delta(predictions, cutoff = cutoff) for cutoff in np.arange(0, 1, 0.01)})"
   ]
  },
  {
   "cell_type": "code",
   "execution_count": 55,
   "metadata": {},
   "outputs": [
    {
     "data": {
      "image/png": "[encoded data removed]",
      "text/plain": [
       "<Figure size 432x288 with 1 Axes>"
      ]
     },
     "metadata": {
      "needs_background": "light"
     },
     "output_type": "display_data"
    },
    {
     "name": "stdout",
     "output_type": "stream",
     "text": [
      "Maximum benefit at cutoff 0.22 with revenue delta of $59,680.30\n"
     ]
    }
   ],
   "source": [
    "def plot_tradeoff(rev_deltas: pd.Series):\n",
    "    # Plot the revenue deltas\n",
    "    rev_deltas.plot()\n",
    "    # mark optimal point\n",
    "    max_pred = rev_deltas.idxmax()\n",
    "    plt.scatter(max_pred, rev_deltas.loc[max_pred], s = 100, c = 'red')\n",
    "    # Reference line for break-even\n",
    "    plt.hlines(0, 0, 1)\n",
    "    plt.show()\n",
    "    print(f'Maximum benefit at cutoff {max_pred} with revenue delta of ${rev_deltas.loc[max_pred]:,.2f}')\n",
    "\n",
    "plot_tradeoff(rev_deltas)"
   ]
  },
  {
   "cell_type": "code",
   "execution_count": null,
   "metadata": {},
   "outputs": [],
   "source": []
  },
  {
   "cell_type": "code",
   "execution_count": null,
   "metadata": {},
   "outputs": [],
   "source": []
  }
 ],
 "metadata": {
  "kernelspec": {
   "display_name": "Python 3",
   "language": "python",
   "name": "python3"
  },
  "language_info": {
   "codemirror_mode": {
    "name": "ipython",
    "version": 3
   },
   "file_extension": ".py",
   "mimetype": "text/x-python",
   "name": "python",
   "nbconvert_exporter": "python",
   "pygments_lexer": "ipython3",
   "version": "3.7.4"
  }
 },
 "nbformat": 4,
 "nbformat_minor": 2
}
